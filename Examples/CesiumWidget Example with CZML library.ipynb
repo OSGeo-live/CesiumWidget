{
 "cells": [
  {
   "cell_type": "markdown",
   "metadata": {},
   "source": [
    "# CesiumWidget together with CZML library\n",
    "This notebook shows how to use the CesiumWidget together with the CZML library from https://github.com/cleder/czml"
   ]
  },
  {
   "cell_type": "markdown",
   "metadata": {},
   "source": [
    "If the CesiumWidget is installed correctly, Cesium should be accessable at:\n",
    "http://localhost:8888/nbextensions/CesiumWidget/cesium/index.html"
   ]
  },
  {
   "cell_type": "code",
   "execution_count": 9,
   "metadata": {
    "collapsed": false
   },
   "outputs": [],
   "source": [
    "from CesiumWidget import CesiumWidget\n",
    "import czml"
   ]
  },
  {
   "cell_type": "markdown",
   "metadata": {},
   "source": [
    "Some data for the viewer to display"
   ]
  },
  {
   "cell_type": "code",
   "execution_count": 10,
   "metadata": {
    "collapsed": false
   },
   "outputs": [],
   "source": [
    "# Initialize a document\n",
    "doc = czml.CZML()"
   ]
  },
  {
   "cell_type": "code",
   "execution_count": 11,
   "metadata": {
    "collapsed": false
   },
   "outputs": [],
   "source": [
    "# Create and append the document packet\n",
    "packet1 = czml.CZMLPacket(id='document',version='1.0')\n",
    "doc.packets.append(packet1)"
   ]
  },
  {
   "cell_type": "code",
   "execution_count": 12,
   "metadata": {
    "collapsed": true
   },
   "outputs": [],
   "source": [
    "p3 = czml.CZMLPacket(id='test')\n",
    "p3.position = czml.Position(cartographicDegrees = [18.07,59.33, 20])\n",
    "point = czml.Point(pixelSize=20, show=True)\n",
    "point.color = czml.Color(rgba=(223, 150, 47, 128))\n",
    "point.show = True\n",
    "p3.point = point"
   ]
  },
  {
   "cell_type": "code",
   "execution_count": 13,
   "metadata": {
    "collapsed": false
   },
   "outputs": [],
   "source": [
    "l = czml.Label(show=True, text='Stockholm')\n",
    "l.scale = 0.5\n",
    "p3.label = l\n",
    "doc.packets.append(p3)"
   ]
  },
  {
   "cell_type": "markdown",
   "metadata": {},
   "source": [
    "Create widget object"
   ]
  },
  {
   "cell_type": "code",
   "execution_count": 14,
   "metadata": {
    "collapsed": false
   },
   "outputs": [],
   "source": [
    "cesiumExample = CesiumWidget(width=\"100%\", czml=tuple(doc.data()))"
   ]
  },
  {
   "cell_type": "markdown",
   "metadata": {},
   "source": [
    "Display the widget:"
   ]
  },
  {
   "cell_type": "code",
   "execution_count": 16,
   "metadata": {
    "collapsed": true
   },
   "outputs": [],
   "source": [
    "cesiumExample"
   ]
  }
 ],
 "metadata": {
  "hide_input": false,
  "kernelspec": {
   "display_name": "Python 3",
   "language": "python",
   "name": "python3"
  },
  "language_info": {
   "codemirror_mode": {
    "name": "ipython",
    "version": 3
   },
   "file_extension": ".py",
   "mimetype": "text/x-python",
   "name": "python",
   "nbconvert_exporter": "python",
   "pygments_lexer": "ipython3",
   "version": "3.5.0"
  }
 },
 "nbformat": 4,
 "nbformat_minor": 0
}
