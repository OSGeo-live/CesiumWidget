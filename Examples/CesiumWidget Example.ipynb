{
 "cells": [
  {
   "cell_type": "markdown",
   "metadata": {},
   "source": [
    "# Cesium Widget Example\n",
    "This is an example notebook accessing the CesiumWidget, in the way it should be accessed."
   ]
  },
  {
   "cell_type": "code",
   "execution_count": 14,
   "metadata": {
    "collapsed": false
   },
   "outputs": [],
   "source": [
    "import json\n",
    "from IPython import display\n",
    "from CesiumWidget import CesiumWidget"
   ]
  },
  {
   "cell_type": "markdown",
   "metadata": {},
   "source": [
    "If the installation of Cesiumjs is ok, it should be reachable [here](http://localhost:8888/nbextensions/CesiumWidget/cesium/index.html).\n",
    "\n",
    "Here's an iframe to test it:"
   ]
  },
  {
   "cell_type": "code",
   "execution_count": 15,
   "metadata": {
    "collapsed": false
   },
   "outputs": [
    {
     "data": {
      "text/html": [
       "\n",
       "        <iframe\n",
       "            width=\"100%\"\n",
       "            height=\"500\"\n",
       "            src=\"http://localhost:8888/nbextensions/CesiumWidget/cesium/index.html\"\n",
       "            frameborder=\"0\"\n",
       "            allowfullscreen\n",
       "        ></iframe>\n",
       "        "
      ],
      "text/plain": [
       "<IPython.lib.display.IFrame at 0x431b1d0>"
      ]
     },
     "execution_count": 15,
     "metadata": {},
     "output_type": "execute_result"
    }
   ],
   "source": [
    "display.IFrame(\"http://localhost:8888/nbextensions/CesiumWidget/cesium/index.html\", width=\"100%\", height=\"500\")"
   ]
  },
  {
   "cell_type": "markdown",
   "metadata": {},
   "source": [
    "Great, let's create a `CesiumWidget`!"
   ]
  },
  {
   "cell_type": "code",
   "execution_count": 16,
   "metadata": {
    "collapsed": false
   },
   "outputs": [],
   "source": [
    "cesium = CesiumWidget()"
   ]
  },
  {
   "cell_type": "markdown",
   "metadata": {},
   "source": [
    "Display the widget:"
   ]
  },
  {
   "cell_type": "code",
   "execution_count": 17,
   "metadata": {
    "collapsed": false
   },
   "outputs": [],
   "source": [
    "cesium"
   ]
  },
  {
   "cell_type": "markdown",
   "metadata": {},
   "source": [
    "You can change many settings of the widget:"
   ]
  },
  {
   "cell_type": "code",
   "execution_count": 18,
   "metadata": {
    "collapsed": false
   },
   "outputs": [
    {
     "data": {
      "text/plain": [
       "{'_flyto': <traitlets.traitlets.List at 0x41e1eb8>,\n",
       " '_view_module': <traitlets.traitlets.Unicode at 0x41e1cc0>,\n",
       " '_view_name': <traitlets.traitlets.Unicode at 0x41e1c88>,\n",
       " '_zoomto': <traitlets.traitlets.List at 0x41e1e10>,\n",
       " 'animation': <traitlets.traitlets.Bool at 0x41e1f28>,\n",
       " 'base_layer_picker': <traitlets.traitlets.Bool at 0x41e1f60>,\n",
       " 'czml': <traitlets.traitlets.Tuple at 0x41e1cf8>,\n",
       " 'enable_lighting': <traitlets.traitlets.Bool at 0x41f1208>,\n",
       " 'geocoder': <traitlets.traitlets.Bool at 0x41e1f98>,\n",
       " 'geojson': <traitlets.traitlets.Unicode at 0x41e1dd8>,\n",
       " 'home_button': <traitlets.traitlets.Bool at 0x41e1fd0>,\n",
       " 'infobox': <traitlets.traitlets.Bool at 0x41f1048>,\n",
       " 'kml_url': <traitlets.traitlets.Unicode at 0x41e1da0>,\n",
       " 'navigation_help_button': <traitlets.traitlets.Bool at 0x41f1128>,\n",
       " 'navigation_instructions_initially_visible': <traitlets.traitlets.Bool at 0x41f1160>,\n",
       " 'scene_3D_only': <traitlets.traitlets.Bool at 0x41f1198>,\n",
       " 'scene_mode': <traitlets.traitlets.CaselessStrEnum at 0x41f11d0>,\n",
       " 'scene_mode_picker': <traitlets.traitlets.Bool at 0x41f1080>,\n",
       " 'selection_indicator': <traitlets.traitlets.Bool at 0x41f10b8>,\n",
       " 'timeline': <traitlets.traitlets.Bool at 0x41f10f0>}"
      ]
     },
     "execution_count": 18,
     "metadata": {},
     "output_type": "execute_result"
    }
   ],
   "source": [
    "cesium.class_own_traits()"
   ]
  },
  {
   "cell_type": "markdown",
   "metadata": {},
   "source": [
    "Let's turn on lighting: let there be light!"
   ]
  },
  {
   "cell_type": "code",
   "execution_count": 19,
   "metadata": {
    "collapsed": false
   },
   "outputs": [],
   "source": [
    "cesium.enable_lighting = True"
   ]
  },
  {
   "cell_type": "markdown",
   "metadata": {},
   "source": [
    "Load data for the viewer to display in the [CZML](https://github.com/AnalyticalGraphicsInc/cesium/wiki/CZML-Guide) format."
   ]
  },
  {
   "cell_type": "code",
   "execution_count": 21,
   "metadata": {
    "collapsed": true
   },
   "outputs": [],
   "source": [
    "from CesiumWidget.examples.iss import ISS\n",
    "cesium.czml = ISS"
   ]
  }
 ],
 "metadata": {
  "kernelspec": {
   "display_name": "Python 3",
   "language": "python",
   "name": "python3"
  },
  "language_info": {
   "codemirror_mode": {
    "name": "ipython",
    "version": 3
   },
   "file_extension": ".py",
   "mimetype": "text/x-python",
   "name": "python",
   "nbconvert_exporter": "python",
   "pygments_lexer": "ipython3",
   "version": "3.5.0"
  }
 },
 "nbformat": 4,
 "nbformat_minor": 0
}
